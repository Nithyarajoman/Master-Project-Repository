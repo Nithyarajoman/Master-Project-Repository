{
 "cells": [
  {
   "cell_type": "code",
   "execution_count": 8,
   "metadata": {},
   "outputs": [],
   "source": [
    "import numpy as np\n",
    "import tensorflow as tf\n",
    "from tensorflow import keras\n",
    "from keras import losses, activations, models\n",
    "from keras.layers import Dense, InputLayer,BatchNormalization, Dropout, Conv2D, Flatten, Activation"
   ]
  },
  {
   "cell_type": "code",
   "execution_count": 2,
   "metadata": {},
   "outputs": [],
   "source": [
    "mnist = keras.datasets.fashion_mnist\n",
    "(x_train, y_train), (x_test, y_test) = mnist.load_data()"
   ]
  },
  {
   "cell_type": "code",
   "execution_count": 3,
   "metadata": {},
   "outputs": [],
   "source": [
    "# Normalize the input image so that each pixel value is between 0 to 1.\n",
    "x_train = x_train / 255.0\n",
    "x_test = x_test / 255.0"
   ]
  },
  {
   "cell_type": "code",
   "execution_count": 9,
   "metadata": {},
   "outputs": [],
   "source": [
    "def get_model():\n",
    "       inputs = keras.Input(shape=(28, 28, 1))\n",
    "       x = Conv2D(32, kernel_size=(3, 3),\n",
    "                     strides=(2, 2), padding=\"same\",\n",
    "                     use_bias=False)(inputs)\n",
    "       x = BatchNormalization()(x)\n",
    "       x = Activation(\"relu\")(x)\n",
    "       x = Conv2D(64, kernel_size=(3, 3),\n",
    "                     strides=(2, 2), padding=\"same\",\n",
    "                     use_bias=False)(x)\n",
    "       x = BatchNormalization()(x)\n",
    "       x = Activation(\"relu\")(x)\n",
    "       x = Flatten()(x)\n",
    "       x = Dropout(0.5)(x)\n",
    "       outputs = Dense(10, activation=\"softmax\")(x)\n",
    "\n",
    "       model = keras.Model(inputs=inputs, outputs=outputs)\n",
    "       \n",
    "       opt = tf.keras.optimizers.Adam(0.001)\n",
    "       model.compile(optimizer=opt, loss=losses.sparse_categorical_crossentropy, metrics=['accuracy'])\n",
    "       return model\n"
   ]
  },
  {
   "cell_type": "code",
   "execution_count": 10,
   "metadata": {},
   "outputs": [
    {
     "name": "stdout",
     "output_type": "stream",
     "text": [
      "Model: \"model\"\n",
      "_________________________________________________________________\n",
      " Layer (type)                Output Shape              Param #   \n",
      "=================================================================\n",
      " input_1 (InputLayer)        [(None, 28, 28, 1)]       0         \n",
      "                                                                 \n",
      " conv2d (Conv2D)             (None, 14, 14, 32)        288       \n",
      "                                                                 \n",
      " batch_normalization (BatchN  (None, 14, 14, 32)       128       \n",
      " ormalization)                                                   \n",
      "                                                                 \n",
      " activation (Activation)     (None, 14, 14, 32)        0         \n",
      "                                                                 \n",
      " conv2d_1 (Conv2D)           (None, 7, 7, 64)          18432     \n",
      "                                                                 \n",
      " batch_normalization_1 (Batc  (None, 7, 7, 64)         256       \n",
      " hNormalization)                                                 \n",
      "                                                                 \n",
      " activation_1 (Activation)   (None, 7, 7, 64)          0         \n",
      "                                                                 \n",
      " flatten (Flatten)           (None, 3136)              0         \n",
      "                                                                 \n",
      " dropout (Dropout)           (None, 3136)              0         \n",
      "                                                                 \n",
      " dense (Dense)               (None, 10)                31370     \n",
      "                                                                 \n",
      "=================================================================\n",
      "Total params: 50,474\n",
      "Trainable params: 50,282\n",
      "Non-trainable params: 192\n",
      "_________________________________________________________________\n"
     ]
    }
   ],
   "source": [
    "model_given = get_model()\n",
    "model_given.summary()"
   ]
  },
  {
   "cell_type": "code",
   "execution_count": 6,
   "metadata": {},
   "outputs": [],
   "source": [
    "# Function to obtain the output from each layer of the model (To be used for the repeat task type)\n",
    "output_size = {}\n",
    "def keras_model_size(model):\n",
    "    prefix_name = model.name + \"_\"\n",
    "    for layer in model.layers:\n",
    "        if isinstance(layer, (tf.keras.Model,models.Sequential)):\n",
    "            keras_model_size(layer)\n",
    "        else:\n",
    "          out_shape = layer.output_shape\n",
    "        output_size[prefix_name + layer.name] = out_shape\n",
    "       \n",
    "          \n",
    "    return output_size\n"
   ]
  },
  {
   "cell_type": "code",
   "execution_count": 7,
   "metadata": {},
   "outputs": [
    {
     "data": {
      "text/plain": [
       "{'model_input_1': [(None, 28, 28, 1)],\n",
       " 'model_conv2d': (None, 14, 14, 32),\n",
       " 'model_batch_normalization': (None, 14, 14, 32),\n",
       " 'model_activation': (None, 14, 14, 32),\n",
       " 'model_conv2d_1': (None, 7, 7, 64),\n",
       " 'model_batch_normalization_1': (None, 7, 7, 64),\n",
       " 'model_activation_1': (None, 7, 7, 64),\n",
       " 'model_flatten': (None, 3136),\n",
       " 'model_dropout': (None, 3136),\n",
       " 'model_dense': (None, 10)}"
      ]
     },
     "execution_count": 7,
     "metadata": {},
     "output_type": "execute_result"
    }
   ],
   "source": [
    "keras_model_size(model_given)"
   ]
  },
  {
   "cell_type": "code",
   "execution_count": 8,
   "metadata": {},
   "outputs": [],
   "source": [
    "# Obtains the output in bits, the memory requirements of each layer\n",
    "\n",
    "def keras_model_output(model):\n",
    "    output_dict = {}\n",
    "    default_dtype = tf.keras.backend.floatx()\n",
    "    prefix_name = model.name + \"_\"\n",
    "    for layer in model.layers:\n",
    "        if isinstance(layer, (tf.keras.Model,models.Sequential)):\n",
    "            keras_model_output(layer)\n",
    "        else:\n",
    "            no_of_neurons = tf.as_dtype(layer.dtype or default_dtype).size # dtype is float 32 and the size here is 4 bytes(32 bits)\n",
    "            out_shape = layer.output_shape\n",
    "            if isinstance(out_shape, list):\n",
    "                for s in out_shape[0]:\n",
    "                    if s is None:\n",
    "                        continue\n",
    "                    no_of_neurons *= s # Output obtained here is in 4 Bytes \n",
    "            else:\n",
    "                for s in out_shape:\n",
    "                    if s is None:\n",
    "                        continue\n",
    "                    no_of_neurons *= s # Output obtained here is in 4 Bytes \n",
    "            no_of_neurons *= 8 # Output obtained in bits\n",
    "        output_dict[prefix_name + layer.name] = no_of_neurons\n",
    "       \n",
    "          \n",
    "    return output_dict"
   ]
  },
  {
   "cell_type": "code",
   "execution_count": 9,
   "metadata": {},
   "outputs": [
    {
     "data": {
      "text/plain": [
       "{'model_input_1': 25088,\n",
       " 'model_conv2d': 200704,\n",
       " 'model_batch_normalization': 200704,\n",
       " 'model_activation': 200704,\n",
       " 'model_conv2d_1': 100352,\n",
       " 'model_batch_normalization_1': 100352,\n",
       " 'model_activation_1': 100352,\n",
       " 'model_flatten': 100352,\n",
       " 'model_dropout': 100352,\n",
       " 'model_dense': 320}"
      ]
     },
     "execution_count": 9,
     "metadata": {},
     "output_type": "execute_result"
    }
   ],
   "source": [
    "keras_model_output(model_given)"
   ]
  },
  {
   "cell_type": "code",
   "execution_count": 10,
   "metadata": {},
   "outputs": [],
   "source": [
    "# EFFECTIVE DATA COMMUNICATION PROBABILITY\n",
    "\n",
    "# Function to print the effective data communicated \n",
    "def data_summary(model,x_test,y_test):\n",
    "\n",
    "  # Creating dictionary for storing the percent of data communicated eliminating the sparse data\n",
    "  effective_probability = {}\n",
    "  \n",
    "  # Function to add communicated data to the metrics\n",
    "  def add_metrics(m2):\n",
    "    \"Annotates recursiverly a (non-compiled) model with metrics that calculate probability of non-zero activity\"\n",
    "    prefix_name = m2.name + \"_\"\n",
    "\n",
    "    for ll in m2.layers:\n",
    "        if is_hier_layer(ll):\n",
    "            add_metrics(ll)\n",
    "        else:\n",
    "            my_metric = tf.reduce_sum( tf.math.count_nonzero(ll.output, dtype=tf.int32) / tf.size( ll.output)  )\n",
    "            name=prefix_name + ll.name\n",
    "            m2.add_metric(my_metric, name=name)\n",
    "        \n",
    "    return\n",
    "\n",
    "  # Function to check if a layer is model or not\n",
    "  def is_hier_layer(layer):\n",
    "      \"Finds if layer is actually a model instead of a single layer\"\n",
    "      return type(layer) in [models.Sequential, keras.Model]\n",
    "\n",
    "  # Clone the model. Note that it is not compiled!\n",
    "  m2 = keras.models.clone_model(model)\n",
    "  add_metrics(m2)\n",
    "  \n",
    "  # Compiling the cloned model and take the inference\n",
    "  m2.compile(optimizer='adam',\n",
    "                loss='sparse_categorical_crossentropy',\n",
    "                metrics=['accuracy'])\n",
    "\n",
    "  m2.evaluate(x_test[0:100], y_test[0:100]) \n",
    "  \n",
    "  # print('%40s | %20s' % ('Metrics and Layer Name', 'Effective data communicated'))\n",
    "  # print(\"*\" * 150)\n",
    "  for l in m2.metrics:\n",
    "    # print('%40s | %5.4f' % (l.name, l.result().numpy()))\n",
    "    if l.name!=\"loss\" and l.name!=\"accuracy\" :\n",
    "      effective_probability[l.name] = l.result().numpy()      \n",
    "\n",
    "  return effective_probability\n"
   ]
  },
  {
   "cell_type": "code",
   "execution_count": 11,
   "metadata": {},
   "outputs": [
    {
     "name": "stdout",
     "output_type": "stream",
     "text": [
      "4/4 [==============================] - 1s 15ms/step - loss: 2.3009 - accuracy: 0.1200 - model_input_1: 0.4867 - model_conv2d: 0.6380 - model_batch_normalization: 0.6380 - model_activation: 0.3420 - model_conv2d_1: 0.7921 - model_batch_normalization_1: 0.7921 - model_activation_1: 0.4148 - model_flatten: 0.4148 - model_dropout: 0.4148 - model_dense: 1.0000\n"
     ]
    },
    {
     "data": {
      "text/plain": [
       "{'model_input_1': 0.4867267219387755,\n",
       " 'model_conv2d': 0.6379942602040817,\n",
       " 'model_batch_normalization': 0.6379942602040817,\n",
       " 'model_activation': 0.3419986647002551,\n",
       " 'model_conv2d_1': 0.7920918367346939,\n",
       " 'model_batch_normalization_1': 0.7920918367346939,\n",
       " 'model_activation_1': 0.4147824657206633,\n",
       " 'model_flatten': 0.4147824657206633,\n",
       " 'model_dropout': 0.4147824657206633,\n",
       " 'model_dense': 1.0}"
      ]
     },
     "execution_count": 11,
     "metadata": {},
     "output_type": "execute_result"
    }
   ],
   "source": [
    "data_summary(model_given, x_train, y_train)"
   ]
  },
  {
   "cell_type": "code",
   "execution_count": 1,
   "metadata": {},
   "outputs": [],
   "source": [
    "# to count the number of tasks required:\n",
    "\n",
    "def layer_count(model):\n",
    "    count = 0\n",
    "    for l in model.layers:\n",
    "        if isinstance(l, (tf.keras.Model,models.Sequential)):\n",
    "            for ll in l.layers:\n",
    "                count = count + 1\n",
    "        else:\n",
    "            count = count + 1\n",
    "    return (f'tasks_number = {count+1}')"
   ]
  },
  {
   "cell_type": "code",
   "execution_count": 11,
   "metadata": {},
   "outputs": [
    {
     "data": {
      "text/plain": [
       "'tasks_number = 11'"
      ]
     },
     "execution_count": 11,
     "metadata": {},
     "output_type": "execute_result"
    }
   ],
   "source": [
    "layer_count(model_given)"
   ]
  }
 ],
 "metadata": {
  "kernelspec": {
   "display_name": "Python 3",
   "language": "python",
   "name": "python3"
  },
  "language_info": {
   "codemirror_mode": {
    "name": "ipython",
    "version": 3
   },
   "file_extension": ".py",
   "mimetype": "text/x-python",
   "name": "python",
   "nbconvert_exporter": "python",
   "pygments_lexer": "ipython3",
   "version": "3.10.11"
  },
  "orig_nbformat": 4,
  "vscode": {
   "interpreter": {
    "hash": "253dfbcfd973045a846042842c7d4e4bbeaf4f6a02166bd713718c08e40fa8ee"
   }
  }
 },
 "nbformat": 4,
 "nbformat_minor": 2
}
